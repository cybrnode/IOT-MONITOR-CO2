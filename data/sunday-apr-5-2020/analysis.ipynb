{
 "cells": [
  {
   "cell_type": "code",
   "execution_count": 97,
   "metadata": {},
   "outputs": [
    {
     "name": "stderr",
     "output_type": "stream",
     "text": [
      "/home/work/.local/lib/python3.7/site-packages/ipykernel_launcher.py:4: FutureWarning: 'pandas.tseries.converter.register' has been moved and renamed to 'pandas.plotting.register_matplotlib_converters'. \n",
      "  after removing the cwd from sys.path.\n"
     ]
    }
   ],
   "source": [
    "import pandas as pd\n",
    "from matplotlib import pyplot as plt\n",
    "from pandas.tseries import converter\n",
    "converter.register()"
   ]
  },
  {
   "cell_type": "markdown",
   "metadata": {},
   "source": [
    "## DS-CO2-20\n",
    "### Read data"
   ]
  },
  {
   "cell_type": "code",
   "execution_count": 2,
   "metadata": {},
   "outputs": [
    {
     "data": {
      "text/html": [
       "<div>\n",
       "<style scoped>\n",
       "    .dataframe tbody tr th:only-of-type {\n",
       "        vertical-align: middle;\n",
       "    }\n",
       "\n",
       "    .dataframe tbody tr th {\n",
       "        vertical-align: top;\n",
       "    }\n",
       "\n",
       "    .dataframe thead th {\n",
       "        text-align: right;\n",
       "    }\n",
       "</style>\n",
       "<table border=\"1\" class=\"dataframe\">\n",
       "  <thead>\n",
       "    <tr style=\"text-align: right;\">\n",
       "      <th></th>\n",
       "      <th>6833</th>\n",
       "      <th>1585957995.0075302</th>\n",
       "    </tr>\n",
       "  </thead>\n",
       "  <tbody>\n",
       "    <tr>\n",
       "      <th>0</th>\n",
       "      <td>6783</td>\n",
       "      <td>1.585958e+09</td>\n",
       "    </tr>\n",
       "    <tr>\n",
       "      <th>1</th>\n",
       "      <td>6753</td>\n",
       "      <td>1.585958e+09</td>\n",
       "    </tr>\n",
       "    <tr>\n",
       "      <th>2</th>\n",
       "      <td>6763</td>\n",
       "      <td>1.585958e+09</td>\n",
       "    </tr>\n",
       "    <tr>\n",
       "      <th>3</th>\n",
       "      <td>6793</td>\n",
       "      <td>1.585958e+09</td>\n",
       "    </tr>\n",
       "    <tr>\n",
       "      <th>4</th>\n",
       "      <td>6983</td>\n",
       "      <td>1.585958e+09</td>\n",
       "    </tr>\n",
       "  </tbody>\n",
       "</table>\n",
       "</div>"
      ],
      "text/plain": [
       "   6833  1585957995.0075302\n",
       "0  6783        1.585958e+09\n",
       "1  6753        1.585958e+09\n",
       "2  6763        1.585958e+09\n",
       "3  6793        1.585958e+09\n",
       "4  6983        1.585958e+09"
      ]
     },
     "execution_count": 2,
     "metadata": {},
     "output_type": "execute_result"
    }
   ],
   "source": [
    "dsco2 = pd.read_csv(\"ds-co2-20/s1.csv\")\n",
    "dsco2.head()"
   ]
  },
  {
   "cell_type": "code",
   "execution_count": 15,
   "metadata": {},
   "outputs": [
    {
     "data": {
      "text/plain": [
       "(77389, 2)"
      ]
     },
     "execution_count": 15,
     "metadata": {},
     "output_type": "execute_result"
    }
   ],
   "source": [
    "dsco2.shape"
   ]
  },
  {
   "cell_type": "code",
   "execution_count": 17,
   "metadata": {},
   "outputs": [
    {
     "data": {
      "text/plain": [
       "(77389, 2)"
      ]
     },
     "execution_count": 17,
     "metadata": {},
     "output_type": "execute_result"
    }
   ],
   "source": [
    "dsco2.dropna(how='any', inplace=True)\n",
    "dsco2.shape"
   ]
  },
  {
   "cell_type": "code",
   "execution_count": 134,
   "metadata": {},
   "outputs": [
    {
     "data": {
      "text/plain": [
       "0    1.585958e+09\n",
       "1    1.585958e+09\n",
       "2    1.585958e+09\n",
       "3    1.585958e+09\n",
       "4    1.585958e+09\n",
       "Name: 1585957995.0075302, dtype: float64"
      ]
     },
     "execution_count": 134,
     "metadata": {},
     "output_type": "execute_result"
    }
   ],
   "source": [
    "ts_dsco2 = dsco2.iloc[:, 1]\n",
    "ts_dsco2.head()"
   ]
  },
  {
   "cell_type": "code",
   "execution_count": 135,
   "metadata": {},
   "outputs": [
    {
     "data": {
      "text/plain": [
       "0   2020-04-03 23:53:16.004372597\n",
       "1   2020-04-03 23:53:17.001448154\n",
       "2   2020-04-03 23:53:17.999573946\n",
       "3   2020-04-03 23:53:18.997969627\n",
       "4   2020-04-03 23:53:19.999603271\n",
       "Name: 1585957995.0075302, dtype: datetime64[ns]"
      ]
     },
     "execution_count": 135,
     "metadata": {},
     "output_type": "execute_result"
    }
   ],
   "source": [
    "ts_dsco2 = pd.to_datetime(ts_dsco2, unit='s')\n",
    "ts_dsco2.head()"
   ]
  },
  {
   "cell_type": "code",
   "execution_count": 138,
   "metadata": {},
   "outputs": [
    {
     "data": {
      "text/plain": [
       "0    678.3\n",
       "1    675.3\n",
       "2    676.3\n",
       "3    679.3\n",
       "4    698.3\n",
       "Name: 6833, dtype: float64"
      ]
     },
     "execution_count": 138,
     "metadata": {},
     "output_type": "execute_result"
    }
   ],
   "source": [
    "values_dsco2 = dsco2.iloc[: ,0] / 10\n",
    "values_dsco2.head()"
   ]
  },
  {
   "cell_type": "markdown",
   "metadata": {},
   "source": [
    "## IDT Sensor\n",
    "IDT have fully calibrated sensors. Other data will be calibrated with this."
   ]
  },
  {
   "cell_type": "markdown",
   "metadata": {},
   "source": [
    "### Read all IDT csv files"
   ]
  },
  {
   "cell_type": "code",
   "execution_count": 53,
   "metadata": {},
   "outputs": [
    {
     "data": {
      "text/plain": [
       "(2857, 27)"
      ]
     },
     "execution_count": 53,
     "metadata": {},
     "output_type": "execute_result"
    }
   ],
   "source": [
    "idt1 = pd.read_csv(\"idt/s2-1.csv\")\n",
    "idt1.shape"
   ]
  },
  {
   "cell_type": "code",
   "execution_count": 54,
   "metadata": {},
   "outputs": [
    {
     "data": {
      "text/plain": [
       "(6721, 27)"
      ]
     },
     "execution_count": 54,
     "metadata": {},
     "output_type": "execute_result"
    }
   ],
   "source": [
    "idt3 = pd.read_csv(\"idt/s2-2.csv\")\n",
    "idt3.shape"
   ]
  },
  {
   "cell_type": "code",
   "execution_count": 55,
   "metadata": {},
   "outputs": [
    {
     "data": {
      "text/plain": [
       "(28175, 27)"
      ]
     },
     "execution_count": 55,
     "metadata": {},
     "output_type": "execute_result"
    }
   ],
   "source": [
    "idt3 = pd.read_csv(\"idt/s2-3.csv\")\n",
    "idt3.shape"
   ]
  },
  {
   "cell_type": "markdown",
   "metadata": {},
   "source": [
    "### Append all these files"
   ]
  },
  {
   "cell_type": "code",
   "execution_count": 60,
   "metadata": {},
   "outputs": [
    {
     "data": {
      "text/plain": [
       "(37753, 27)"
      ]
     },
     "execution_count": 60,
     "metadata": {},
     "output_type": "execute_result"
    }
   ],
   "source": [
    "idt = idt1.append(idt2)\n",
    "idt = idt.append(idt3)\n",
    "idt.shape"
   ]
  },
  {
   "cell_type": "markdown",
   "metadata": {},
   "source": [
    "### Data info"
   ]
  },
  {
   "cell_type": "code",
   "execution_count": 70,
   "metadata": {},
   "outputs": [
    {
     "data": {
      "text/html": [
       "<div>\n",
       "<style scoped>\n",
       "    .dataframe tbody tr th:only-of-type {\n",
       "        vertical-align: middle;\n",
       "    }\n",
       "\n",
       "    .dataframe tbody tr th {\n",
       "        vertical-align: top;\n",
       "    }\n",
       "\n",
       "    .dataframe thead th {\n",
       "        text-align: right;\n",
       "    }\n",
       "</style>\n",
       "<table border=\"1\" class=\"dataframe\">\n",
       "  <thead>\n",
       "    <tr style=\"text-align: right;\">\n",
       "      <th></th>\n",
       "      <th>board_type</th>\n",
       "      <th>sequence</th>\n",
       "      <th>sleeptime</th>\n",
       "      <th>run</th>\n",
       "      <th>start_time</th>\n",
       "      <th>device_tracking</th>\n",
       "      <th>making_code</th>\n",
       "      <th>Rhtr_RT</th>\n",
       "      <th>generalpurpose</th>\n",
       "      <th>VDDH</th>\n",
       "      <th>...</th>\n",
       "      <th>Wait1</th>\n",
       "      <th>Temp2</th>\n",
       "      <th>Wait2</th>\n",
       "      <th>Rmox_Temp1</th>\n",
       "      <th>Rmox_Temp2</th>\n",
       "      <th>comment</th>\n",
       "      <th>EtOH (ppm)</th>\n",
       "      <th>IAQ</th>\n",
       "      <th>TVOC (mg/m^3)</th>\n",
       "      <th>eCO2 (ppm)</th>\n",
       "    </tr>\n",
       "  </thead>\n",
       "  <tbody>\n",
       "    <tr>\n",
       "      <th>0</th>\n",
       "      <td>IDT HiCom</td>\n",
       "      <td>hard coded</td>\n",
       "      <td>0.0</td>\n",
       "      <td>1.0</td>\n",
       "      <td>2020-04-05T01:20:31.333000</td>\n",
       "      <td>x0000463C53845B75</td>\n",
       "      <td>x2310</td>\n",
       "      <td>22.213085</td>\n",
       "      <td>[200, 2, 167, 6, 210, 0, 0, 0, 0, 0, 0, 0, 0, ...</td>\n",
       "      <td>2.079694</td>\n",
       "      <td>...</td>\n",
       "      <td>1.0</td>\n",
       "      <td>300.0</td>\n",
       "      <td>1.0</td>\n",
       "      <td>1364.290857</td>\n",
       "      <td>1821.789322</td>\n",
       "      <td>NaN</td>\n",
       "      <td>0.0</td>\n",
       "      <td>0.0</td>\n",
       "      <td>0.0</td>\n",
       "      <td>0.0</td>\n",
       "    </tr>\n",
       "    <tr>\n",
       "      <th>1</th>\n",
       "      <td>IDT HiCom</td>\n",
       "      <td>hard coded</td>\n",
       "      <td>0.0</td>\n",
       "      <td>2.0</td>\n",
       "      <td>2020-04-05T01:20:33.364000</td>\n",
       "      <td>x0000463C53845B75</td>\n",
       "      <td>x2310</td>\n",
       "      <td>22.213085</td>\n",
       "      <td>[200, 2, 167, 6, 210, 0, 0, 0, 0, 0, 0, 0, 0, ...</td>\n",
       "      <td>2.079694</td>\n",
       "      <td>...</td>\n",
       "      <td>1.0</td>\n",
       "      <td>300.0</td>\n",
       "      <td>1.0</td>\n",
       "      <td>2222.815049</td>\n",
       "      <td>2581.373698</td>\n",
       "      <td>NaN</td>\n",
       "      <td>0.0</td>\n",
       "      <td>0.0</td>\n",
       "      <td>0.0</td>\n",
       "      <td>0.0</td>\n",
       "    </tr>\n",
       "    <tr>\n",
       "      <th>2</th>\n",
       "      <td>IDT HiCom</td>\n",
       "      <td>hard coded</td>\n",
       "      <td>0.0</td>\n",
       "      <td>3.0</td>\n",
       "      <td>2020-04-05T01:20:35.383000</td>\n",
       "      <td>x0000463C53845B75</td>\n",
       "      <td>x2310</td>\n",
       "      <td>22.213085</td>\n",
       "      <td>[200, 2, 167, 6, 210, 0, 0, 0, 0, 0, 0, 0, 0, ...</td>\n",
       "      <td>2.079694</td>\n",
       "      <td>...</td>\n",
       "      <td>1.0</td>\n",
       "      <td>300.0</td>\n",
       "      <td>1.0</td>\n",
       "      <td>2933.791531</td>\n",
       "      <td>3265.246117</td>\n",
       "      <td>NaN</td>\n",
       "      <td>0.0</td>\n",
       "      <td>0.0</td>\n",
       "      <td>0.0</td>\n",
       "      <td>0.0</td>\n",
       "    </tr>\n",
       "    <tr>\n",
       "      <th>3</th>\n",
       "      <td>IDT HiCom</td>\n",
       "      <td>hard coded</td>\n",
       "      <td>0.0</td>\n",
       "      <td>4.0</td>\n",
       "      <td>2020-04-05T01:20:37.405000</td>\n",
       "      <td>x0000463C53845B75</td>\n",
       "      <td>x2310</td>\n",
       "      <td>22.213085</td>\n",
       "      <td>[200, 2, 167, 6, 210, 0, 0, 0, 0, 0, 0, 0, 0, ...</td>\n",
       "      <td>2.079694</td>\n",
       "      <td>...</td>\n",
       "      <td>1.0</td>\n",
       "      <td>300.0</td>\n",
       "      <td>1.0</td>\n",
       "      <td>3579.235446</td>\n",
       "      <td>3894.150708</td>\n",
       "      <td>NaN</td>\n",
       "      <td>0.0</td>\n",
       "      <td>0.0</td>\n",
       "      <td>0.0</td>\n",
       "      <td>0.0</td>\n",
       "    </tr>\n",
       "    <tr>\n",
       "      <th>4</th>\n",
       "      <td>IDT HiCom</td>\n",
       "      <td>hard coded</td>\n",
       "      <td>0.0</td>\n",
       "      <td>5.0</td>\n",
       "      <td>2020-04-05T01:20:39.419000</td>\n",
       "      <td>x0000463C53845B75</td>\n",
       "      <td>x2310</td>\n",
       "      <td>22.213085</td>\n",
       "      <td>[200, 2, 167, 6, 210, 0, 0, 0, 0, 0, 0, 0, 0, ...</td>\n",
       "      <td>2.079694</td>\n",
       "      <td>...</td>\n",
       "      <td>1.0</td>\n",
       "      <td>300.0</td>\n",
       "      <td>1.0</td>\n",
       "      <td>4191.391051</td>\n",
       "      <td>4500.652344</td>\n",
       "      <td>NaN</td>\n",
       "      <td>0.0</td>\n",
       "      <td>0.0</td>\n",
       "      <td>0.0</td>\n",
       "      <td>0.0</td>\n",
       "    </tr>\n",
       "  </tbody>\n",
       "</table>\n",
       "<p>5 rows × 27 columns</p>\n",
       "</div>"
      ],
      "text/plain": [
       "  board_type    sequence  sleeptime  run                  start_time  \\\n",
       "0  IDT HiCom  hard coded        0.0  1.0  2020-04-05T01:20:31.333000   \n",
       "1  IDT HiCom  hard coded        0.0  2.0  2020-04-05T01:20:33.364000   \n",
       "2  IDT HiCom  hard coded        0.0  3.0  2020-04-05T01:20:35.383000   \n",
       "3  IDT HiCom  hard coded        0.0  4.0  2020-04-05T01:20:37.405000   \n",
       "4  IDT HiCom  hard coded        0.0  5.0  2020-04-05T01:20:39.419000   \n",
       "\n",
       "     device_tracking making_code    Rhtr_RT  \\\n",
       "0  x0000463C53845B75       x2310  22.213085   \n",
       "1  x0000463C53845B75       x2310  22.213085   \n",
       "2  x0000463C53845B75       x2310  22.213085   \n",
       "3  x0000463C53845B75       x2310  22.213085   \n",
       "4  x0000463C53845B75       x2310  22.213085   \n",
       "\n",
       "                                      generalpurpose      VDDH  ...  Wait1  \\\n",
       "0  [200, 2, 167, 6, 210, 0, 0, 0, 0, 0, 0, 0, 0, ...  2.079694  ...    1.0   \n",
       "1  [200, 2, 167, 6, 210, 0, 0, 0, 0, 0, 0, 0, 0, ...  2.079694  ...    1.0   \n",
       "2  [200, 2, 167, 6, 210, 0, 0, 0, 0, 0, 0, 0, 0, ...  2.079694  ...    1.0   \n",
       "3  [200, 2, 167, 6, 210, 0, 0, 0, 0, 0, 0, 0, 0, ...  2.079694  ...    1.0   \n",
       "4  [200, 2, 167, 6, 210, 0, 0, 0, 0, 0, 0, 0, 0, ...  2.079694  ...    1.0   \n",
       "\n",
       "   Temp2  Wait2   Rmox_Temp1   Rmox_Temp2  comment  EtOH (ppm)  IAQ  \\\n",
       "0  300.0    1.0  1364.290857  1821.789322      NaN         0.0  0.0   \n",
       "1  300.0    1.0  2222.815049  2581.373698      NaN         0.0  0.0   \n",
       "2  300.0    1.0  2933.791531  3265.246117      NaN         0.0  0.0   \n",
       "3  300.0    1.0  3579.235446  3894.150708      NaN         0.0  0.0   \n",
       "4  300.0    1.0  4191.391051  4500.652344      NaN         0.0  0.0   \n",
       "\n",
       "   TVOC (mg/m^3)  eCO2 (ppm)  \n",
       "0            0.0         0.0  \n",
       "1            0.0         0.0  \n",
       "2            0.0         0.0  \n",
       "3            0.0         0.0  \n",
       "4            0.0         0.0  \n",
       "\n",
       "[5 rows x 27 columns]"
      ]
     },
     "execution_count": 70,
     "metadata": {},
     "output_type": "execute_result"
    }
   ],
   "source": [
    "idt.head()"
   ]
  },
  {
   "cell_type": "code",
   "execution_count": 86,
   "metadata": {},
   "outputs": [
    {
     "data": {
      "text/plain": [
       "0   2020-04-05 01:20:31.333\n",
       "1   2020-04-05 01:20:33.364\n",
       "2   2020-04-05 01:20:35.383\n",
       "3   2020-04-05 01:20:37.405\n",
       "4   2020-04-05 01:20:39.419\n",
       "Name: start_time, dtype: datetime64[ns]"
      ]
     },
     "execution_count": 86,
     "metadata": {},
     "output_type": "execute_result"
    }
   ],
   "source": [
    "ts_idt = pd.to_datetime(idt.start_time, format=\"%Y-%m-%dT%H:%M:%S.%f\")\n",
    "ts_idt.head()"
   ]
  },
  {
   "cell_type": "code",
   "execution_count": 88,
   "metadata": {},
   "outputs": [
    {
     "data": {
      "text/plain": [
       "0    0.0\n",
       "1    0.0\n",
       "2    0.0\n",
       "3    0.0\n",
       "4    0.0\n",
       "Name: eCO2 (ppm), dtype: float64"
      ]
     },
     "execution_count": 88,
     "metadata": {},
     "output_type": "execute_result"
    }
   ],
   "source": [
    "values_idt = idt.loc[: ,\"eCO2 (ppm)\"]\n",
    "values_idt.head()"
   ]
  },
  {
   "cell_type": "code",
   "execution_count": 98,
   "metadata": {},
   "outputs": [
    {
     "data": {
      "text/plain": [
       "[<matplotlib.lines.Line2D at 0x7fe5182d44d0>]"
      ]
     },
     "execution_count": 98,
     "metadata": {},
     "output_type": "execute_result"
    },
    {
     "data": {
      "image/png": "[encoded data removed]",
      "text/plain": [
       "<Figure size 432x288 with 1 Axes>"
      ]
     },
     "metadata": {
      "needs_background": "light"
     },
     "output_type": "display_data"
    }
   ],
   "source": [
    "plt.plot(ts_idt, values_idt)"
   ]
  },
  {
   "cell_type": "code",
   "execution_count": 136,
   "metadata": {},
   "outputs": [
    {
     "data": {
      "text/plain": [
       "[<matplotlib.lines.Line2D at 0x7fe513c15c90>]"
      ]
     },
     "execution_count": 136,
     "metadata": {},
     "output_type": "execute_result"
    },
    {
     "data": {
      "image/png": "[encoded data removed]",
      "text/plain": [
       "<Figure size 432x288 with 1 Axes>"
      ]
     },
     "metadata": {
      "needs_background": "light"
     },
     "output_type": "display_data"
    }
   ],
   "source": [
    "plt.plot(ts_dsco2, values_dsco2)"
   ]
  },
  {
   "cell_type": "code",
   "execution_count": 139,
   "metadata": {},
   "outputs": [
    {
     "data": {
      "text/plain": [
       "[<matplotlib.lines.Line2D at 0x7fe513be0090>]"
      ]
     },
     "execution_count": 139,
     "metadata": {},
     "output_type": "execute_result"
    },
    {
     "data": {
      "image/png": "[encoded data removed]",
      "text/plain": [
       "<Figure size 432x288 with 1 Axes>"
      ]
     },
     "metadata": {
      "needs_background": "light"
     },
     "output_type": "display_data"
    }
   ],
   "source": [
    "plt.plot(ts_idt, values_idt)\n",
    "plt.plot(ts_dsco2, values_dsco2)"
   ]
  },
  {
   "cell_type": "code",
   "execution_count": 142,
   "metadata": {},
   "outputs": [
    {
     "data": {
      "text/plain": [
       "Timestamp('2020-04-05 07:22:28.768040895')"
      ]
     },
     "execution_count": 142,
     "metadata": {},
     "output_type": "execute_result"
    }
   ],
   "source": [
    "max_ts = min(max(ts_idt), max(ts_dsco2))\n",
    "max_ts"
   ]
  },
  {
   "cell_type": "code",
   "execution_count": 145,
   "metadata": {},
   "outputs": [
    {
     "data": {
      "text/plain": [
       "Timestamp('2020-04-05 01:20:31.333000')"
      ]
     },
     "execution_count": 145,
     "metadata": {},
     "output_type": "execute_result"
    }
   ],
   "source": [
    "min_ts = max(min(ts_idt), min(ts_dsco2))\n",
    "min_ts"
   ]
  }
 ],
 "metadata": {
  "kernelspec": {
   "display_name": "Python 3",
   "language": "python",
   "name": "python3"
  },
  "language_info": {
   "codemirror_mode": {
    "name": "ipython",
    "version": 3
   },
   "file_extension": ".py",
   "mimetype": "text/x-python",
   "name": "python",
   "nbconvert_exporter": "python",
   "pygments_lexer": "ipython3",
   "version": "3.7.5"
  }
 },
 "nbformat": 4,
 "nbformat_minor": 4
}
